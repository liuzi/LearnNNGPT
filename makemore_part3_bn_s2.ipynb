{
  "cells": [
    {
      "cell_type": "markdown",
      "metadata": {
        "id": "OxuLXCNRlm7x"
      },
      "source": [
        "![Activation Functions](images/activation.png)"
      ]
    },
    {
      "cell_type": "markdown",
      "metadata": {
        "id": "NjAdX_FClm7y"
      },
      "source": [
        "# makemore: part 3 s2, How to solve bad initialization for much complex/deeper NN"
      ]
    },
    {
      "cell_type": "code",
      "execution_count": 1,
      "metadata": {
        "id": "NNbiry2Blm7z"
      },
      "outputs": [],
      "source": [
        "import torch\n",
        "import torch.nn.functional as F\n",
        "import matplotlib.pyplot as plt # for making figures\n",
        "%matplotlib inline"
      ]
    },
    {
      "cell_type": "code",
      "source": [
        "!wget https://raw.githubusercontent.com/karpathy/makemore/master/names.txt"
      ],
      "metadata": {
        "colab": {
          "base_uri": "https://localhost:8080/"
        },
        "id": "4apHMhhwl3Io",
        "outputId": "b81d5929-950d-4552-e5ac-6992cceef06b"
      },
      "execution_count": 2,
      "outputs": [
        {
          "output_type": "stream",
          "name": "stdout",
          "text": [
            "--2024-02-20 03:54:12--  https://raw.githubusercontent.com/karpathy/makemore/master/names.txt\n",
            "Resolving raw.githubusercontent.com (raw.githubusercontent.com)... 185.199.111.133, 185.199.110.133, 185.199.109.133, ...\n",
            "Connecting to raw.githubusercontent.com (raw.githubusercontent.com)|185.199.111.133|:443... connected.\n",
            "HTTP request sent, awaiting response... 200 OK\n",
            "Length: 228145 (223K) [text/plain]\n",
            "Saving to: ‘names.txt’\n",
            "\n",
            "names.txt           100%[===================>] 222.80K  --.-KB/s    in 0.008s  \n",
            "\n",
            "2024-02-20 03:54:12 (25.9 MB/s) - ‘names.txt’ saved [228145/228145]\n",
            "\n"
          ]
        }
      ]
    },
    {
      "cell_type": "code",
      "execution_count": 3,
      "metadata": {
        "colab": {
          "base_uri": "https://localhost:8080/"
        },
        "id": "qbJLswyQlm70",
        "outputId": "a63209ff-f753-49d2-9d26-1ed5f4ae1b0d"
      },
      "outputs": [
        {
          "output_type": "execute_result",
          "data": {
            "text/plain": [
              "['emma', 'olivia', 'ava', 'isabella', 'sophia', 'charlotte', 'mia', 'amelia']"
            ]
          },
          "metadata": {},
          "execution_count": 3
        }
      ],
      "source": [
        "# read in all the words\n",
        "words = open('names.txt', 'r').read().splitlines()\n",
        "words[:8]"
      ]
    },
    {
      "cell_type": "code",
      "execution_count": 4,
      "metadata": {
        "colab": {
          "base_uri": "https://localhost:8080/"
        },
        "id": "5EKmH-2Wlm70",
        "outputId": "ab9e058d-bd8c-4e63-b459-3036a94a216a"
      },
      "outputs": [
        {
          "output_type": "execute_result",
          "data": {
            "text/plain": [
              "32033"
            ]
          },
          "metadata": {},
          "execution_count": 4
        }
      ],
      "source": [
        "len(words)"
      ]
    },
    {
      "cell_type": "code",
      "execution_count": 5,
      "metadata": {
        "colab": {
          "base_uri": "https://localhost:8080/"
        },
        "id": "ksujzTIolm70",
        "outputId": "5ad3b470-059c-4d21-aea7-f3fa9e5d69fc"
      },
      "outputs": [
        {
          "output_type": "stream",
          "name": "stdout",
          "text": [
            "{1: 'a', 2: 'b', 3: 'c', 4: 'd', 5: 'e', 6: 'f', 7: 'g', 8: 'h', 9: 'i', 10: 'j', 11: 'k', 12: 'l', 13: 'm', 14: 'n', 15: 'o', 16: 'p', 17: 'q', 18: 'r', 19: 's', 20: 't', 21: 'u', 22: 'v', 23: 'w', 24: 'x', 25: 'y', 26: 'z', 0: '.'}\n",
            "27\n"
          ]
        }
      ],
      "source": [
        "# build the vocabulary of characters and mappings to/from integers\n",
        "chars = sorted(list(set(''.join(words))))\n",
        "stoi = {s:i+1 for i,s in enumerate(chars)}\n",
        "stoi['.'] = 0\n",
        "itos = {i:s for s,i in stoi.items()}\n",
        "vocab_size = len(itos)\n",
        "print(itos)\n",
        "print(vocab_size)"
      ]
    },
    {
      "cell_type": "code",
      "execution_count": 6,
      "metadata": {
        "colab": {
          "base_uri": "https://localhost:8080/"
        },
        "id": "xnK_yIV5lm71",
        "outputId": "42f5a5cc-6b5a-4d44-a5eb-be4d5e7fa562"
      },
      "outputs": [
        {
          "output_type": "stream",
          "name": "stdout",
          "text": [
            "torch.Size([182625, 3]) torch.Size([182625])\n",
            "torch.Size([22655, 3]) torch.Size([22655])\n",
            "torch.Size([22866, 3]) torch.Size([22866])\n"
          ]
        }
      ],
      "source": [
        "# build the dataset\n",
        "block_size = 3 # context length: how many characters do we take to predict the next one?\n",
        "\n",
        "def build_dataset(words):\n",
        "  X, Y = [], []\n",
        "\n",
        "  for w in words:\n",
        "    context = [0] * block_size\n",
        "    for ch in w + '.':\n",
        "      ix = stoi[ch]\n",
        "      X.append(context)\n",
        "      Y.append(ix)\n",
        "      context = context[1:] + [ix] # crop and append\n",
        "\n",
        "  X = torch.tensor(X)\n",
        "  Y = torch.tensor(Y)\n",
        "  print(X.shape, Y.shape)\n",
        "  return X, Y\n",
        "\n",
        "import random\n",
        "random.seed(42)\n",
        "random.shuffle(words)\n",
        "n1 = int(0.8*len(words))\n",
        "n2 = int(0.9*len(words))\n",
        "\n",
        "Xtr,  Ytr  = build_dataset(words[:n1])     # 80%\n",
        "Xdev, Ydev = build_dataset(words[n1:n2])   # 10%\n",
        "Xte,  Yte  = build_dataset(words[n2:])     # 10%\n"
      ]
    },
    {
      "cell_type": "markdown",
      "metadata": {
        "id": "3QzzvEaLlm71"
      },
      "source": [
        "## Following Kaiming Init to improve Normalization\n",
        "1. Not quite important now due to other modern innovated techniques"
      ]
    },
    {
      "cell_type": "code",
      "execution_count": null,
      "metadata": {
        "id": "_gtamE8rlm71",
        "outputId": "240bb9e3-759e-4999-b871-313182c1c009"
      },
      "outputs": [
        {
          "name": "stdout",
          "output_type": "stream",
          "text": [
            "11897\n"
          ]
        }
      ],
      "source": [
        "emb_size = 10\n",
        "g = torch.Generator().manual_seed(2147483647) # for reproducibility\n",
        "C = torch.randn((27, emb_size), generator=g)\n",
        "## for hidden layer, 100 to 300 neurons to make it more complex\n",
        "W1 = torch.randn((block_size*emb_size, 200), generator=g) * (5/3) / (emb_size * block_size)**0.5 ##* 0.2 # scale down W1\n",
        "b1 = torch.randn(200, generator=g) * 0.01 # try to make activations close to zero\n",
        "W2 = torch.randn((200, 27), generator=g) * 0.01 # scale down W2\n",
        "b2 = torch.randn(27, generator=g) * 0 # try to make logits close to zero\n",
        "parameters = [C, W1, b1, W2, b2]\n",
        "print(sum(p.nelement() for p in parameters)) # number of parameters in total\n",
        "for p in parameters:\n",
        "    p.requires_grad_()"
      ]
    },
    {
      "cell_type": "code",
      "execution_count": null,
      "metadata": {
        "id": "tmjnydlllm72",
        "outputId": "2ebcea05-282c-4262-9ddd-0ee2817086d7"
      },
      "outputs": [
        {
          "name": "stdout",
          "output_type": "stream",
          "text": [
            "tensor(0.0090) tensor(0.9877)\n",
            "tensor(0.0003) tensor(0.9984)\n"
          ]
        },
        {
          "data": {
            "image/png": "[encoded data removed]",
            "text/plain": [
              "<Figure size 2000x500 with 2 Axes>"
            ]
          },
          "metadata": {},
          "output_type": "display_data"
        }
      ],
      "source": [
        "x = torch.randn(1000,10)\n",
        "w = torch.randn(10,200) / 10**0.5\n",
        "# *5 -> more extrem standard deviation\n",
        "# *0.2 -> 0.6 deviation\n",
        "y = x @ w # how to scale it to make it preserve the distribution like x sampled from Guassian\n",
        "print(x.mean(), x.std())\n",
        "print(y.mean(), y.std())\n",
        "plt.figure(figsize=(20,5))\n",
        "plt.subplot(121, title='x')\n",
        "plt.hist(x.view(-1).tolist(), bins=50, density=True);\n",
        "plt.subplot(122, title='y = x @ w')\n",
        "plt.hist(y.view(-1).tolist(), bins=50, density=True);\n",
        ""
      ]
    },
    {
      "cell_type": "markdown",
      "metadata": {
        "id": "VeqITv7Clm72"
      },
      "source": [
        "### Initialization Notes\n",
        "1. [kaiming init 2015](https://arxiv.org/pdf/1502.01852.pdf)\n",
        "2. [torch.nn.init](https://pytorch.org/docs/stable/nn.init.html)"
      ]
    },
    {
      "cell_type": "code",
      "execution_count": null,
      "metadata": {
        "id": "uEC0CbNZlm72",
        "outputId": "1a22ede1-913a-4f2d-8958-37abfa089ee6"
      },
      "outputs": [
        {
          "data": {
            "text/plain": [
              "tensor(0.1992)"
            ]
          },
          "execution_count": 12,
          "metadata": {},
          "output_type": "execute_result"
        }
      ],
      "source": [
        "(torch.randn(10000) * 0.2).std()"
      ]
    },
    {
      "cell_type": "code",
      "execution_count": null,
      "metadata": {
        "id": "Lo76w-kHlm72",
        "outputId": "01875519-07a3-415b-b263-048a16d6da27"
      },
      "outputs": [
        {
          "data": {
            "text/plain": [
              "0.3042903097250923"
            ]
          },
          "execution_count": 13,
          "metadata": {},
          "output_type": "execute_result"
        }
      ],
      "source": [
        "(5/3) / (emb_size * block_size)**0.5 ## gain / sqrt(fan_in), fan_in = emb_size * block_size"
      ]
    },
    {
      "cell_type": "markdown",
      "metadata": {
        "id": "AFFdR1wblm73"
      },
      "source": [
        "## Batch Normalization\n",
        "1. [Reducing Internal Covariate Shift 2015](https://arxiv.org/pdf/1502.03167.pdf)"
      ]
    },
    {
      "cell_type": "code",
      "execution_count": 8,
      "metadata": {
        "colab": {
          "base_uri": "https://localhost:8080/"
        },
        "id": "n81-ZnJWlm73",
        "outputId": "555cfdf7-7a25-4d4e-d987-905aad7b1f47"
      },
      "outputs": [
        {
          "output_type": "stream",
          "name": "stdout",
          "text": [
            "12097\n"
          ]
        }
      ],
      "source": [
        "emb_size = 10\n",
        "n_hidden = 200 # the number of neurons in the hidden layer of the MLP\n",
        "\n",
        "g = torch.Generator().manual_seed(2147483647) # for reproducibility\n",
        "C  = torch.randn((vocab_size, emb_size),            generator=g)\n",
        "W1 = torch.randn((emb_size * block_size, n_hidden), generator=g) * (5/3)/((emb_size * block_size)**0.5) #* 0.2\n",
        "# b1 = torch.randn(n_hidden,                        generator=g) * 0.01\n",
        "W2 = torch.randn((n_hidden, vocab_size),          generator=g) * 0.01\n",
        "b2 = torch.randn(vocab_size,                      generator=g) * 0\n",
        "\n",
        "# BatchNorm parameters\n",
        "bngain = torch.ones((1, n_hidden))\n",
        "bnbias = torch.zeros((1, n_hidden))\n",
        "## Buffers for batchnorm layer\n",
        "bnmean_running = torch.zeros((1, n_hidden))\n",
        "bnstd_running = torch.ones((1, n_hidden))\n",
        "\n",
        "parameters = [C, W1, W2, b2, bngain, bnbias]\n",
        "print(sum(p.nelement() for p in parameters)) # number of parameters in total\n",
        "for p in parameters:\n",
        "  p.requires_grad = True\n",
        "# g = torch.Generator().manual_seed(2147483647) # for reproducibility\n",
        "# C = torch.randn((27, emb_size), generator=g)\n",
        "# ## for hidden layer, 100 to 300 neurons to make it more complex\n",
        "# W1 = torch.randn((block_size*emb_size, 200), generator=g) * (5/3) / (emb_size * block_size)**0.5 ##* 0.2 # scale down W1\n",
        "# b1 = torch.randn(200, generator=g) * 0.01 # try to make activations close to zero\n",
        "# W2 = torch.randn((200, 27), generator=g) * 0.01 # scale down W2\n",
        "# b2 = torch.randn(27, generator=g) * 0 # try to make logits close to zero\n",
        "# parameters = [C, W1, b1, W2, b2]\n",
        "# print(sum(p.nelement() for p in parameters)) # number of parameters in total\n",
        "# for p in parameters:\n",
        "#     p.requires_grad_()"
      ]
    },
    {
      "cell_type": "code",
      "execution_count": 9,
      "metadata": {
        "colab": {
          "base_uri": "https://localhost:8080/"
        },
        "id": "u4cu15ONlm73",
        "outputId": "63b21f1c-e098-4d6d-bd53-ddb82ee023b6"
      },
      "outputs": [
        {
          "output_type": "stream",
          "name": "stdout",
          "text": [
            "      0/ 200000: 3.3239\n",
            "  10000/ 200000: 2.0322\n",
            "  20000/ 200000: 2.5675\n",
            "  30000/ 200000: 2.0125\n",
            "  40000/ 200000: 2.2446\n",
            "  50000/ 200000: 1.8897\n",
            "  60000/ 200000: 2.0785\n",
            "  70000/ 200000: 2.3681\n",
            "  80000/ 200000: 2.2918\n",
            "  90000/ 200000: 2.0238\n",
            " 100000/ 200000: 2.3673\n",
            " 110000/ 200000: 2.3132\n",
            " 120000/ 200000: 1.6414\n",
            " 130000/ 200000: 1.9311\n",
            " 140000/ 200000: 2.2231\n",
            " 150000/ 200000: 2.0027\n",
            " 160000/ 200000: 2.0997\n",
            " 170000/ 200000: 2.4949\n",
            " 180000/ 200000: 2.0199\n",
            " 190000/ 200000: 2.1707\n"
          ]
        }
      ],
      "source": [
        "# same optimization as last time\n",
        "max_steps = 200000\n",
        "batch_size = 32\n",
        "lossi = []\n",
        "\n",
        "for i in range(max_steps):\n",
        "\n",
        "  # minibatch construct\n",
        "  ix = torch.randint(0, Xtr.shape[0], (batch_size,), generator=g)\n",
        "  Xb, Yb = Xtr[ix], Ytr[ix] # batch X,Y\n",
        "\n",
        "  # forward pass\n",
        "  emb = C[Xb] # embed the characters into vectors\n",
        "  embcat = emb.view(emb.shape[0], -1) # concatenate the vectors\n",
        "  # Linear Layer\n",
        "  hpreact = embcat @ W1# +b1 hidden layer pre-activation\n",
        "  # BatchNorm layer\n",
        "  # ----------------------------------------------------\n",
        "  # hpreact = bngain * (hpreact - hpreact.mean(0, keepdim=True)) / hpreact.std(0, keepdim=True) + bnbias# batch normalization\n",
        "  bnmeani = hpreact.mean(0, keepdim=True)\n",
        "  bnstdi = hpreact.std(0, keepdim=True)\n",
        "  hpreact = bngain * (hpreact - bnmeani) / (bnstdi) + bnbias\n",
        "  with torch.no_grad():\n",
        "    bnmean_running = 0.999 * bnmean_running + 0.001 * bnmeani\n",
        "    bnstd_running = 0.999 * bnstd_running + 0.001 * bnstdi\n",
        "  # ----------------------------------------------------\n",
        "  # Non-linearity\n",
        "  h = torch.tanh(hpreact) # hidden layer\n",
        "  logits = h @ W2 + b2 # output layer\n",
        "  loss = F.cross_entropy(logits, Yb) # loss function\n",
        "\n",
        "  # backward pass\n",
        "  for p in parameters:\n",
        "    p.grad = None\n",
        "  loss.backward()\n",
        "\n",
        "  # update\n",
        "  lr = 0.1 if i < 100000 else 0.01 # step learning rate decay\n",
        "  for p in parameters:\n",
        "    p.data += -lr * p.grad\n",
        "\n",
        "  # track stats\n",
        "  if i % 10000 == 0: # print every once in a while\n",
        "    print(f'{i:7d}/{max_steps:7d}: {loss.item():.4f}')\n",
        "  lossi.append(loss.log10().item())\n",
        "\n",
        "  # break"
      ]
    },
    {
      "cell_type": "code",
      "execution_count": 16,
      "metadata": {
        "id": "L-tVCB2klm73"
      },
      "outputs": [],
      "source": [
        "# calibrate the batch norm at the end of training\n",
        "with torch.no_grad():\n",
        "  # pass the training set through\n",
        "  emb = C[Xtr]\n",
        "  embcat = emb.view(emb.shape[0], -1)\n",
        "  hpreact = embcat @ W1 # + b1\n",
        "  # measure the mean/std over the entire training set\n",
        "  bnmean = hpreact.mean(0, keepdim=True)\n",
        "  bnstd = hpreact.std(0, keepdim=True)"
      ]
    },
    {
      "cell_type": "code",
      "source": [
        "bnmean"
      ],
      "metadata": {
        "colab": {
          "base_uri": "https://localhost:8080/"
        },
        "id": "SzGLb6JtnwWF",
        "outputId": "31f6098b-cb34-4bc8-dcea-0975d141b20a"
      },
      "execution_count": 17,
      "outputs": [
        {
          "output_type": "execute_result",
          "data": {
            "text/plain": [
              "tensor([[-2.3148,  0.6874, -0.9136,  0.9966,  1.0880,  1.0840,  1.7472, -2.1107,\n",
              "          0.5818,  1.4375, -1.6466, -2.7301, -0.4766, -0.1641, -0.0858, -1.1704,\n",
              "          0.6866, -2.6103, -0.0924,  1.6207, -0.7664, -0.3184,  0.0413,  0.6149,\n",
              "          1.1046,  0.2279,  2.0388,  0.5843,  0.8446,  1.7754, -0.3646, -0.8379,\n",
              "         -0.0896, -0.5023, -0.3711, -1.0608, -0.0749,  0.3473, -0.5914,  0.9716,\n",
              "         -0.4422, -1.3040, -0.3001, -0.2147,  0.6885,  0.6893,  2.0853, -0.7506,\n",
              "          2.3778,  1.8862,  0.8296,  0.2895,  1.8993,  0.4667,  0.6838, -1.8916,\n",
              "         -0.0522,  0.4209,  1.3688, -0.9078, -0.4528,  1.1846,  0.5668,  0.6121,\n",
              "          1.5833,  1.2313, -1.0180,  2.1523, -0.6460,  0.0949, -0.2969, -0.4722,\n",
              "          0.9620, -1.0408, -2.9998,  0.6501,  1.4310, -0.1545,  0.0938,  0.5273,\n",
              "          0.2381,  1.2512,  2.0559,  0.6612,  0.0664, -0.0787, -1.6763,  0.2953,\n",
              "          2.2552, -0.0272, -0.6879,  1.4155, -0.8440, -1.2223, -1.0225,  0.2298,\n",
              "          0.2183, -0.3140,  0.1117, -0.6066,  0.1870,  0.1074, -1.3940,  0.2151,\n",
              "          0.2062, -0.3756, -0.3225, -0.1820,  0.9048, -0.7874,  0.7050,  0.2340,\n",
              "          0.3866,  1.2474,  2.8524,  2.0636,  0.8410,  0.8425,  0.3650, -0.3044,\n",
              "         -1.0709, -1.4460,  0.3584,  1.1004, -1.1248,  0.0772, -0.2179, -0.4878,\n",
              "         -0.8513, -1.0870,  2.8129, -1.2862,  0.6607,  1.8692,  0.9321,  1.0561,\n",
              "         -0.7055,  1.8552,  0.1469,  0.4651,  1.6410, -0.1787,  1.9451,  0.3148,\n",
              "          0.4283,  0.2150,  1.1427, -0.7108,  0.1584,  0.5811, -1.5974, -0.2309,\n",
              "          1.7915,  1.2606,  0.9840, -0.4874,  1.3901, -1.6655,  0.0160,  0.4299,\n",
              "          0.5652, -0.4249,  0.9526, -1.1846, -0.4573, -0.7257, -0.3429, -0.4286,\n",
              "         -2.1554, -0.1022,  1.1683, -2.1566,  0.1227, -0.8835, -1.0024,  0.9097,\n",
              "          1.3090, -0.7439,  1.3003, -1.4914,  1.8300,  0.9777,  0.8347, -0.7322,\n",
              "          0.3562,  0.0673, -0.9728,  0.1443,  1.8839,  0.9298, -0.4882,  1.6377,\n",
              "         -0.7557,  0.2002,  0.1396,  1.2793,  1.8080, -0.8193,  0.2711,  1.2348]])"
            ]
          },
          "metadata": {},
          "execution_count": 17
        }
      ]
    },
    {
      "cell_type": "code",
      "source": [
        "bnmean_running"
      ],
      "metadata": {
        "colab": {
          "base_uri": "https://localhost:8080/"
        },
        "id": "pb01kTQ9n4ws",
        "outputId": "990fce12-8389-45c9-8595-4759c6f234c5"
      },
      "execution_count": 15,
      "outputs": [
        {
          "output_type": "execute_result",
          "data": {
            "text/plain": [
              "tensor([[-2.3539,  0.6872, -0.9000,  1.0159,  1.0894,  1.0862,  1.7389, -2.1356,\n",
              "          0.5608,  1.4246, -1.6445, -2.7426, -0.4861, -0.1510, -0.0687, -1.1550,\n",
              "          0.6891, -2.6399, -0.1283,  1.6240, -0.7732, -0.2865,  0.0467,  0.6119,\n",
              "          1.1172,  0.2433,  2.0542,  0.5778,  0.8515,  1.7729, -0.3741, -0.8386,\n",
              "         -0.0831, -0.5198, -0.3817, -1.0698, -0.0781,  0.3370, -0.5769,  0.9935,\n",
              "         -0.4507, -1.3313, -0.2895, -0.2299,  0.6877,  0.6936,  2.0835, -0.7759,\n",
              "          2.3804,  1.8613,  0.8118,  0.2735,  1.8801,  0.4704,  0.6656, -1.8962,\n",
              "         -0.0420,  0.4356,  1.3924, -0.8906, -0.4676,  1.1688,  0.5539,  0.6001,\n",
              "          1.5853,  1.2103, -1.0171,  2.1422, -0.6330,  0.1070, -0.2926, -0.4831,\n",
              "          0.9506, -1.0144, -2.9925,  0.6268,  1.4404, -0.1574,  0.0955,  0.5159,\n",
              "          0.2487,  1.2401,  2.0104,  0.6695,  0.0768, -0.0851, -1.6767,  0.2963,\n",
              "          2.2374, -0.0100, -0.6669,  1.4356, -0.8431, -1.2317, -1.0220,  0.2201,\n",
              "          0.1928, -0.3261,  0.1108, -0.6206,  0.1795,  0.1089, -1.4007,  0.2215,\n",
              "          0.2301, -0.3369, -0.3340, -0.1849,  0.9342, -0.8288,  0.7118,  0.2475,\n",
              "          0.3813,  1.2447,  2.8427,  2.0338,  0.8295,  0.8458,  0.3483, -0.3078,\n",
              "         -1.0773, -1.4394,  0.3424,  1.1274, -1.1252,  0.0692, -0.2308, -0.4936,\n",
              "         -0.8471, -1.0785,  2.8080, -1.2823,  0.6541,  1.8701,  0.9662,  1.0696,\n",
              "         -0.7051,  1.8326,  0.1624,  0.4782,  1.6376, -0.1962,  1.9364,  0.2986,\n",
              "          0.4300,  0.2062,  1.1390, -0.6907,  0.1571,  0.5883, -1.5947, -0.2230,\n",
              "          1.7796,  1.2689,  0.9813, -0.4950,  1.4052, -1.6645,  0.0248,  0.4152,\n",
              "          0.5742, -0.4044,  0.9335, -1.1684, -0.4574, -0.7229, -0.3192, -0.4214,\n",
              "         -2.1397, -0.1036,  1.1620, -2.1602,  0.1196, -0.8847, -0.9970,  0.9115,\n",
              "          1.3360, -0.7411,  1.2991, -1.5061,  1.8278,  0.9732,  0.8191, -0.7259,\n",
              "          0.3556,  0.0714, -0.9718,  0.1299,  1.8912,  0.9107, -0.4951,  1.6492,\n",
              "         -0.7601,  0.2008,  0.1606,  1.2586,  1.8110, -0.8021,  0.2453,  1.2369]])"
            ]
          },
          "metadata": {},
          "execution_count": 15
        }
      ]
    },
    {
      "cell_type": "code",
      "execution_count": null,
      "metadata": {
        "id": "RtJLzog8lm73",
        "outputId": "fd853369-0a24-492a-c055-d44ead6e9880"
      },
      "outputs": [
        {
          "data": {
            "text/plain": [
              "[<matplotlib.lines.Line2D at 0x11d17dc30>]"
            ]
          },
          "execution_count": 27,
          "metadata": {},
          "output_type": "execute_result"
        },
        {
          "data": {
            "image/png": "[encoded data removed]",
            "text/plain": [
              "<Figure size 640x480 with 1 Axes>"
            ]
          },
          "metadata": {},
          "output_type": "display_data"
        }
      ],
      "source": [
        "plt.plot(lossi)"
      ]
    },
    {
      "cell_type": "code",
      "execution_count": 18,
      "metadata": {
        "colab": {
          "base_uri": "https://localhost:8080/"
        },
        "id": "1pty7ZgNlm74",
        "outputId": "6699b162-46d4-4d97-ad74-4a7f551632ce"
      },
      "outputs": [
        {
          "output_type": "stream",
          "name": "stdout",
          "text": [
            "train 2.06659197807312\n",
            "dev 2.1050572395324707\n"
          ]
        }
      ],
      "source": [
        "@torch.no_grad()\n",
        "def split_loss(split):\n",
        "    x,y = {\n",
        "        'train': (Xtr, Ytr),\n",
        "        'dev': (Xdev, Ydev),\n",
        "        'test': (Xte, Yte)\n",
        "    }[split]\n",
        "    emb = C[x] # （N, block_size, n_embd）\n",
        "    embcat = emb.view(emb.shape[0], -1) # concat into ()\n",
        "    hpreact = embcat @ W1 + b1\n",
        "    hpreact = bngain * (hpreact - bnmean_running) / bnstd_running + bnbias\n",
        "    # hpreact = bngain * (hpreact - hpreact.mean(0, keepdim=True)) / hpreact.std(0, keepdim=True) + bnbias\n",
        "    # hpreact = bngain * (hpreact - bnmean) / bnstd + bnbias\n",
        "    h = torch.tanh(hpreact) # （N, n_hidden）\n",
        "    logits = h @ W2 + b2 # (N, vocab_size)\n",
        "    loss = F.cross_entropy(logits, y)\n",
        "    print(split, loss.item())\n",
        "\n",
        "split_loss('train')\n",
        "split_loss('dev')"
      ]
    },
    {
      "cell_type": "markdown",
      "metadata": {
        "id": "wPhv1zKolm74"
      },
      "source": [
        "## loss log\n",
        "\n",
        "1. orginal loss\n",
        "    * train 2.1245384216308594\n",
        "    * val 2.168196439743042\n",
        "\n",
        "2. after fixing softmax confidently wrong:\n",
        "    * train 2.07\n",
        "    * val 2.13\n",
        "\n",
        "3. after fixing tanh layer too staturated at init\n",
        "    * train 2.0355966091156006\n",
        "    * val 2.1026785373687744\n",
        "\n",
        "4. use semi-principled \"kaiming init\" instead of hacky init:\n",
        "    * train 2.0376641750335693\n",
        "    * val 2.106989622116089\n",
        "\n",
        "5. add batch norm layer\n",
        "    * train 2.0668270587921143\n",
        "    * val 2.104844808578491\n"
      ]
    }
  ],
  "metadata": {
    "kernelspec": {
      "display_name": "Python 3",
      "name": "python3"
    },
    "language_info": {
      "codemirror_mode": {
        "name": "ipython",
        "version": 3
      },
      "file_extension": ".py",
      "mimetype": "text/x-python",
      "name": "python",
      "nbconvert_exporter": "python",
      "pygments_lexer": "ipython3",
      "version": "3.10.2"
    },
    "colab": {
      "provenance": []
    }
  },
  "nbformat": 4,
  "nbformat_minor": 0
}